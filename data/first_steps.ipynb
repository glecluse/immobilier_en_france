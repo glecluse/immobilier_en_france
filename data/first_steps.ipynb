{
 "cells": [
  {
   "cell_type": "markdown",
   "metadata": {},
   "source": [
    "# Projet Fil Rouge\n",
    "### Nom, Prénom, Année"
   ]
  },
  {
   "cell_type": "markdown",
   "metadata": {},
   "source": [
    "## Data Cleaning"
   ]
  },
  {
   "cell_type": "code",
   "execution_count": null,
   "metadata": {},
   "outputs": [],
   "source": [
    "# Ici, vous réaliserez le cleaning de votre jeu de données"
   ]
  },
  {
   "cell_type": "markdown",
   "metadata": {},
   "source": [
    "## Data Visualisation\n",
    "Ici, vous réaliserez vos observations, créerez vos graphes dans un premier temps. Une fois qu'ils seront fait, ils seront à intégrer à votre application Streamlit. Considérez donc cet espace comme un bac à sable avant de vous lancer dans le développement de l'application de Data Visualisation."
   ]
  },
  {
   "cell_type": "markdown",
   "metadata": {},
   "source": [
    "# Ici, vous réaliserez la visualisation de votre jeu de données"
   ]
  }
 ],
 "metadata": {
  "language_info": {
   "name": "python"
  }
 },
 "nbformat": 4,
 "nbformat_minor": 2
}
