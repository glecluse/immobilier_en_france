{
 "cells": [
  {
   "cell_type": "markdown",
   "metadata": {},
   "source": [
<<<<<<< HEAD
    "# <center>Gestion de Projet Agile avec SCRUM : Projet Fil Rouge</center><br>\n",
    "\n"
=======
    "Gestion de Projet Agile avec SCRUM: Projet Fil Rouge"
>>>>>>> 4a3cd235c4b1c5edd3ad44252a4dc7bb0d4b9eb1
   ]
  },
  {
   "cell_type": "markdown",
   "metadata": {},
   "source": [
<<<<<<< HEAD
    "\n",
    "\n",
    "## 1. Choix du jeu de données"
=======
    "1. Choix du jeu de données : A faire avant la fin du module ! ⏰"
>>>>>>> 4a3cd235c4b1c5edd3ad44252a4dc7bb0d4b9eb1
   ]
  },
  {
   "cell_type": "markdown",
   "metadata": {},
   "source": [
    "Pour réaliser le projet fil rouge, j'ai choisi un jeu de données comportant des relevés relatifs à l'immobilier en Frnce à partir de Kaggle\n",
    "https://www.kaggle.com/datasets/benoitfavier/immobilier-france/data\n",
    "\n",
    "Le dataset comprend les tables suivantes :\n",
    "\n",
    "- actifs_financiers.csv\n",
    "- flux_nouveaux_emprunts.csv\n",
    "- foyers_fiscaux.csv\n",
    "- indice_reference_loyers.csv\n",
    "- loyers.csv\n",
    "- parc_immobilier.csv\n",
    "- taux_endettement.csv\n",
    "- taux_interet.csv\n",
    "- transactions.npz\n",
    "- transactions_sample.csv"
   ]
  },
  {
   "cell_type": "markdown",
   "metadata": {},
   "source": [
<<<<<<< HEAD
    "## 2. Cadrage du projet (Sprint 0)"
=======
    "2. Cadrage du projet (Sprint 0)"
>>>>>>> 4a3cd235c4b1c5edd3ad44252a4dc7bb0d4b9eb1
   ]
  },
  {
   "cell_type": "markdown",
   "metadata": {},
   "source": [
<<<<<<< HEAD
    "### Définition du projet"
=======
    "Définition du projet"
>>>>>>> 4a3cd235c4b1c5edd3ad44252a4dc7bb0d4b9eb1
   ]
  },
  {
   "cell_type": "markdown",
   "metadata": {},
   "source": [
    "Le projet a pour but de mettre en évidence des corrélations entre les taux d'intêrets, les nombres de transactions et le prix de l'immobilier selon les régions de France."
   ]
<<<<<<< HEAD
  },
  {
   "cell_type": "markdown",
   "metadata": {},
   "source": []
=======
>>>>>>> 4a3cd235c4b1c5edd3ad44252a4dc7bb0d4b9eb1
  }
 ],
 "metadata": {
  "language_info": {
   "name": "python"
  }
 },
 "nbformat": 4,
 "nbformat_minor": 2
}
